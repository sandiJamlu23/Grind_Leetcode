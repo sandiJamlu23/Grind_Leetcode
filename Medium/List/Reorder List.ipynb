{
 "cells": [
  {
   "cell_type": "markdown",
   "metadata": {},
   "source": []
  },
  {
   "cell_type": "code",
   "execution_count": 1,
   "metadata": {},
   "outputs": [
    {
     "name": "stdout",
     "output_type": "stream",
     "text": [
      "[1, 3, 12, 0, 0]\n"
     ]
    }
   ],
   "source": [
    "class Solution(object):\n",
    "    def moveZeroes(self, nums):\n",
    "        \"\"\"\n",
    "        :type nums: List[int]\n",
    "        :rtype: None Do not return anything, modify nums in-place instead.\n",
    "        \"\"\"\n",
    "        zeros = []\n",
    "        non_zeros = []\n",
    "        for num in nums:\n",
    "            if num > 0:\n",
    "                non_zeros.append(num)\n",
    "            if num == 0:\n",
    "                zeros.append(num)\n",
    "        return non_zeros + zeros\n",
    "sol = Solution()\n",
    "print(sol.moveZeroes([0,1,0,3,12]))\n"
   ]
  },
  {
   "cell_type": "code",
   "execution_count": 2,
   "metadata": {},
   "outputs": [
    {
     "name": "stdout",
     "output_type": "stream",
     "text": [
      "[1, 3, 12, 0, 0]\n"
     ]
    }
   ],
   "source": [
    "class Solution(object):\n",
    "    def moveZeroes(self, nums):\n",
    "        \"\"\"\n",
    "        :type nums: List[int]\n",
    "        :rtype: None Do not return anything, modify nums in-place instead.\n",
    "        \"\"\"\n",
    "        slow = 0\n",
    "        for fast in range(len(nums)):\n",
    "            if nums[fast] != 0:\n",
    "                nums[slow] = nums[fast]\n",
    "                slow += 1\n",
    "\n",
    "        while slow < len(nums):\n",
    "            nums[slow] = 0\n",
    "            slow +=1\n",
    "\n",
    "        return nums\n",
    "    \n",
    "sol = Solution()\n",
    "print(sol.moveZeroes([0,1,0,3,12]))\n"
   ]
  }
 ],
 "metadata": {
  "kernelspec": {
   "display_name": "my_new_torch_env",
   "language": "python",
   "name": "python3"
  },
  "language_info": {
   "codemirror_mode": {
    "name": "ipython",
    "version": 3
   },
   "file_extension": ".py",
   "mimetype": "text/x-python",
   "name": "python",
   "nbconvert_exporter": "python",
   "pygments_lexer": "ipython3",
   "version": "3.12.9"
  }
 },
 "nbformat": 4,
 "nbformat_minor": 2
}
