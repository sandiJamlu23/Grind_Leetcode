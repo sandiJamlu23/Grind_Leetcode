{
 "cells": [
  {
   "cell_type": "code",
   "execution_count": null,
   "metadata": {},
   "outputs": [
    {
     "data": {
      "text/plain": [
       "4"
      ]
     },
     "execution_count": 7,
     "metadata": {},
     "output_type": "execute_result"
    }
   ],
   "source": [
    "class Solution(object):\n",
    "    def lengthOfLastWord(self, s):\n",
    "        # how do i know it is the last word?\n",
    "        # we can walk from the last word until it finds the space\n",
    "        # add counter while we are walking backward\n",
    "        # list_word = int(s)\n",
    "        # split the word\n",
    "\n",
    "        words = s.split()\n",
    "        last_str = words[-1]\n",
    "        count = 0\n",
    "        for i in range (len(last_str)):\n",
    "            count +=1\n",
    "        return count\n",
    "\n",
    "solution = Solution()\n",
    "solution.lengthOfLastWord(\"   fly me   to   the moon  \")\n",
    "\n",
    "\n"
   ]
  },
  {
   "cell_type": "code",
   "execution_count": 5,
   "metadata": {},
   "outputs": [
    {
     "name": "stdout",
     "output_type": "stream",
     "text": [
      "afas\n"
     ]
    }
   ],
   "source": [
    "string_number = \"agsfa, afas\"\n",
    "words = string_number.split()\n",
    "last_str = words[-1]\n",
    "print(last_str)  # Output: 123"
   ]
  },
  {
   "cell_type": "code",
   "execution_count": null,
   "metadata": {},
   "outputs": [],
   "source": []
  }
 ],
 "metadata": {
  "kernelspec": {
   "display_name": "Python 3",
   "language": "python",
   "name": "python3"
  },
  "language_info": {
   "codemirror_mode": {
    "name": "ipython",
    "version": 3
   },
   "file_extension": ".py",
   "mimetype": "text/x-python",
   "name": "python",
   "nbconvert_exporter": "python",
   "pygments_lexer": "ipython3",
   "version": "3.12.9"
  }
 },
 "nbformat": 4,
 "nbformat_minor": 2
}
